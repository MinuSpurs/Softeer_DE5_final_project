{
 "cells": [
  {
   "cell_type": "code",
   "execution_count": 1,
   "id": "6a5d82dd",
   "metadata": {},
   "outputs": [
    {
     "name": "stdout",
     "output_type": "stream",
     "text": [
      "✅ 저장: /Users/minwoo/Desktop/softeer/data_engineering_course_materials/missions/final_project/data/172_링크_구간거리_from_보정.csv\n",
      "   정류장_순서  링크_구간거리(m)\n",
      "0       1         0.0\n",
      "1       2       128.0\n",
      "2       3       314.0\n",
      "3       4       234.0\n",
      "4       5       336.0\n"
     ]
    }
   ],
   "source": [
    "import pandas as pd\n",
    "import numpy as np\n",
    "from pathlib import Path\n",
    "\n",
    "SRC = \"/Users/minwoo/Desktop/softeer/data_engineering_course_materials/missions/final_project/data/172_시간대별_정류장_노선_추정승하차+운행횟수+순서+링크거리_보정.csv\"\n",
    "# 출력 파일(필요 시 경로만 바꾸세요)\n",
    "DST = \"/Users/minwoo/Desktop/softeer/data_engineering_course_materials/missions/final_project/data/172_링크_구간거리_from_보정.csv\"\n",
    "\n",
    "# (선택) 특정 노선만 필터하고 싶으면 사용\n",
    "ROUTE_ID = 100100037     # 노선번호 172의 노선ID (파일에 보이는 값)\n",
    "USE_ROUTE_FILTER = True  # 여러 노선 섞인 파일이면 True\n",
    "\n",
    "df = pd.read_csv(SRC, encoding=\"utf-8-sig\")\n",
    "\n",
    "if USE_ROUTE_FILTER:\n",
    "    df = df[df[\"노선ID\"] == ROUTE_ID].copy()\n",
    "\n",
    "# 시간/날짜 중복이 있으니 정류장_순서별 평균(또는 최빈/첫값)으로 집계\n",
    "links = (\n",
    "    df.groupby(\"정류장_순서\", as_index=False)[\"링크_구간거리(m)\"]\n",
    "      .mean()\n",
    "      .sort_values(\"정류장_순서\")\n",
    ")\n",
    "\n",
    "# 품질 보정: 1번 정류장은 0m 고정, 음수/결측 방지\n",
    "links.loc[links[\"정류장_순서\"] == 1, \"링크_구간거리(m)\"] = 0.0\n",
    "links[\"링크_구간거리(m)\"] = links[\"링크_구간거리(m)\"].clip(lower=0)\n",
    "if links[\"링크_구간거리(m)\"].isna().any():\n",
    "    fill_val = links.loc[links[\"정류장_순서\"] != 1, \"링크_구간거리(m)\"].median()\n",
    "    links[\"링크_구간거리(m)\"] = links[\"링크_구간거리(m)\"].fillna(fill_val)\n",
    "\n",
    "# 정밀도 정리(원하면 반올림)\n",
    "links[\"링크_구간거리(m)\"] = links[\"링크_구간거리(m)\"].round(1)\n",
    "\n",
    "# (선택) 점검용 누적거리\n",
    "links[\"누적_거리(m)\"] = links[\"링크_구간거리(m)\"].cumsum()\n",
    "\n",
    "# 파이프라인 호환: 최소 컬럼만 저장\n",
    "links_out = links[[\"정류장_순서\", \"링크_구간거리(m)\"]]\n",
    "Path(DST).parent.mkdir(parents=True, exist_ok=True)\n",
    "links_out.to_csv(DST, index=False, encoding=\"utf-8-sig\")\n",
    "\n",
    "print(\"✅ 저장:\", DST)\n",
    "print(links_out.head())"
   ]
  },
  {
   "cell_type": "code",
   "execution_count": null,
   "id": "26881f20",
   "metadata": {},
   "outputs": [],
   "source": []
  }
 ],
 "metadata": {
  "kernelspec": {
   "display_name": "softeer",
   "language": "python",
   "name": "python3"
  },
  "language_info": {
   "codemirror_mode": {
    "name": "ipython",
    "version": 3
   },
   "file_extension": ".py",
   "mimetype": "text/x-python",
   "name": "python",
   "nbconvert_exporter": "python",
   "pygments_lexer": "ipython3",
   "version": "3.10.18"
  }
 },
 "nbformat": 4,
 "nbformat_minor": 5
}
